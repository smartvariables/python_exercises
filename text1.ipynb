{
  "nbformat": 4,
  "nbformat_minor": 0,
  "metadata": {
    "colab": {
      "provenance": [],
      "authorship_tag": "ABX9TyONmWkQXm/wS/g4DGs+dwZd",
      "include_colab_link": true
    },
    "kernelspec": {
      "name": "python3",
      "display_name": "Python 3"
    },
    "language_info": {
      "name": "python"
    }
  },
  "cells": [
    {
      "cell_type": "markdown",
      "metadata": {
        "id": "view-in-github",
        "colab_type": "text"
      },
      "source": [
        "<a href=\"https://colab.research.google.com/github/smartvariables/python_exercises/blob/master/text1.ipynb\" target=\"_parent\"><img src=\"https://colab.research.google.com/assets/colab-badge.svg\" alt=\"Open In Colab\"/></a>"
      ]
    },
    {
      "cell_type": "code",
      "execution_count": null,
      "metadata": {
        "id": "nDo4p3Sx1dVL",
        "colab": {
          "base_uri": "https://localhost:8080/"
        },
        "outputId": "8dc921cc-9b13-470d-8499-ea44103dbd13"
      },
      "outputs": [
        {
          "output_type": "stream",
          "name": "stdout",
          "text": [
            "じゃんけんスタート\n",
            "自分の手を入力してください\n",
            "0:グー, 1:チョキ, 2:パー0\n",
            "勝ち\n"
          ]
        }
      ],
      "source": [
        "import random\n",
        "\n",
        "print('じゃんけんスタート')\n",
        "\n",
        "print('自分の手を入力してください')\n",
        "my_hand = int(input('0:グー, 1:チョキ, 2:パー'))\n",
        "you_hand = random.randint(0, 2)\n",
        "\n",
        "if my_hand == 0:\n",
        "  if you_hand == 0:\n",
        "    print('あいこ')\n",
        "  elif you_hand == 1:\n",
        "    print('勝ち')\n",
        "elif my_hand == 1:\n",
        "  if you_hand == 0:\n",
        "    print('負け')\n",
        "  elif you_hand == 1:\n",
        "    print('あいこ')"
      ]
    },
    {
      "cell_type": "code",
      "source": [],
      "metadata": {
        "id": "f7QdKtMw4Dfa"
      },
      "execution_count": null,
      "outputs": []
    },
    {
      "cell_type": "code",
      "source": [],
      "metadata": {
        "id": "Y0VSqDpo2qe6"
      },
      "execution_count": null,
      "outputs": []
    }
  ]
}